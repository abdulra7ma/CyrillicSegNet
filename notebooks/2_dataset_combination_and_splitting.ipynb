{
 "cells": [
  {
   "cell_type": "code",
   "execution_count": 10,
   "metadata": {},
   "outputs": [],
   "source": [
    "import numpy as np\n",
    "import os\n",
    "\n",
    "# Load the preprocessed data for Kyrgyz letters and Russian words\n",
    "X_kyrgyz_train = np.load('../data/processed/handwritten_kyrgyz_letters/X_kyrgyz_train.npy')\n",
    "y_kyrgyz_train = np.load('../data/processed/handwritten_kyrgyz_letters/y_kyrgyz_train.npy')\n",
    "X_kyrgyz_val = np.load('../data/processed/handwritten_kyrgyz_letters/X_kyrgyz_val.npy')\n",
    "y_kyrgyz_val = np.load('../data/processed/handwritten_kyrgyz_letters/y_kyrgyz_val.npy')\n",
    "X_kyrgyz_test = np.load('../data/processed/handwritten_kyrgyz_letters/X_kyrgyz_test.npy')\n",
    "y_kyrgyz_test = np.load('../data/processed/handwritten_kyrgyz_letters/y_kyrgyz_test.npy')\n",
    "\n",
    "X_russian_train = np.load('../data/processed/cyrillic_words/X_russian_train.npy')\n",
    "y_russian_train = np.load('../data/processed/cyrillic_words/y_russian_train.npy')\n",
    "X_russian_val = np.load('../data/processed/cyrillic_words/X_russian_val.npy')\n",
    "y_russian_val = np.load('../data/processed/cyrillic_words/y_russian_val.npy')\n",
    "X_russian_test = np.load('../data/processed/cyrillic_words/X_russian_test.npy')\n",
    "y_russian_test = np.load('../data/processed/cyrillic_words/y_russian_test.npy')\n",
    "\n"
   ]
  },
  {
   "cell_type": "code",
   "execution_count": 11,
   "metadata": {},
   "outputs": [
    {
     "name": "stdout",
     "output_type": "stream",
     "text": [
      "Kyrgyz training data shape: (39872, 32, 32, 1), Labels shape: (39872,)\n",
      "Russian training data shape: (57828, 32, 128), Labels shape: (57828,)\n"
     ]
    }
   ],
   "source": [
    "# Check the shapes of the loaded datasets\n",
    "print(f\"Kyrgyz training data shape: {X_kyrgyz_train.shape}, Labels shape: {y_kyrgyz_train.shape}\")\n",
    "print(f\"Russian training data shape: {X_russian_train.shape}, Labels shape: {y_russian_train.shape}\")"
   ]
  },
  {
   "cell_type": "code",
   "execution_count": 12,
   "metadata": {},
   "outputs": [],
   "source": [
    "# Function to pad the Kyrgyz letter images to match the width of Russian word images (128 pixels)\n",
    "def pad_images(X_data, target_width=128):\n",
    "    padded_data = []\n",
    "    for img in X_data:\n",
    "        padding = ((0, 0), (0, target_width - img.shape[1]))  # Add padding to the right side\n",
    "        img_padded = np.pad(img.squeeze(), padding, mode='constant', constant_values=0)  # Add zero padding\n",
    "        padded_data.append(img_padded.reshape(img.shape[0], target_width, 1))  # Keep shape (height, width, 1)\n",
    "    return np.array(padded_data)"
   ]
  },
  {
   "cell_type": "code",
   "execution_count": 15,
   "metadata": {},
   "outputs": [],
   "source": [
    "# Reshape Russian words data to add the channel dimension (grayscale -> 1 channel)\n",
    "X_russian_train = X_russian_train.reshape(X_russian_train.shape[0], X_russian_train.shape[1], X_russian_train.shape[2], 1)\n",
    "X_russian_val = X_russian_val.reshape(X_russian_val.shape[0], X_russian_val.shape[1], X_russian_val.shape[2], 1)\n",
    "X_russian_test = X_russian_test.reshape(X_russian_test.shape[0], X_russian_test.shape[1], X_russian_test.shape[2], 1)"
   ]
  },
  {
   "cell_type": "code",
   "execution_count": 16,
   "metadata": {},
   "outputs": [],
   "source": [
    "# Function to pad the Kyrgyz letter images to match the width of Russian word images (128 pixels)\n",
    "def pad_images(X_data, target_width=128):\n",
    "    padded_data = []\n",
    "    for img in X_data:\n",
    "        padding = ((0, 0), (0, target_width - img.shape[1]))  # Add padding to the right side\n",
    "        img_padded = np.pad(img.squeeze(), padding, mode='constant', constant_values=0)  # Add zero padding\n",
    "        padded_data.append(img_padded.reshape(img.shape[0], target_width, 1))  # Keep shape (height, width, 1)\n",
    "    return np.array(padded_data)\n"
   ]
  },
  {
   "cell_type": "code",
   "execution_count": 17,
   "metadata": {},
   "outputs": [],
   "source": [
    "# Pad Kyrgyz training, validation, and test sets to match Russian word width (128 pixels)\n",
    "X_kyrgyz_train_padded = pad_images(X_kyrgyz_train, target_width=128)\n",
    "X_kyrgyz_val_padded = pad_images(X_kyrgyz_val, target_width=128)\n",
    "X_kyrgyz_test_padded = pad_images(X_kyrgyz_test, target_width=128)"
   ]
  },
  {
   "cell_type": "code",
   "execution_count": 19,
   "metadata": {},
   "outputs": [],
   "source": [
    "# Now combine Kyrgyz and Russian data (stack them together)\n",
    "X_train_combined = np.concatenate([X_kyrgyz_train_padded, X_russian_train])\n",
    "y_train_combined = np.concatenate([y_kyrgyz_train, y_russian_train])\n",
    "\n",
    "X_val_combined = np.concatenate([X_kyrgyz_val_padded, X_russian_val])\n",
    "y_val_combined = np.concatenate([y_kyrgyz_val, y_russian_val])\n",
    "\n",
    "X_test_combined = np.concatenate([X_kyrgyz_test_padded, X_russian_test])\n",
    "y_test_combined = np.concatenate([y_kyrgyz_test, y_russian_test])"
   ]
  },
  {
   "cell_type": "code",
   "execution_count": 20,
   "metadata": {},
   "outputs": [
    {
     "name": "stdout",
     "output_type": "stream",
     "text": [
      "Combined training data shape: (97700, 32, 128, 1), Labels shape: (97700,)\n",
      "Combined validation data shape: (24426, 32, 128, 1), Labels shape: (24426,)\n",
      "Combined test data shape: (19382, 32, 128, 1), Labels shape: (19382,)\n"
     ]
    }
   ],
   "source": [
    "# Check combined shapes\n",
    "print(f\"Combined training data shape: {X_train_combined.shape}, Labels shape: {y_train_combined.shape}\")\n",
    "print(f\"Combined validation data shape: {X_val_combined.shape}, Labels shape: {y_val_combined.shape}\")\n",
    "print(f\"Combined test data shape: {X_test_combined.shape}, Labels shape: {y_test_combined.shape}\")"
   ]
  },
  {
   "cell_type": "code",
   "execution_count": 21,
   "metadata": {},
   "outputs": [],
   "source": [
    "# Save the combined data\n",
    "os.makedirs('../data/processed/combined', exist_ok=True)\n",
    "\n",
    "np.save('../data/processed/combined/X_train_combined.npy', X_train_combined)\n",
    "np.save('../data/processed/combined/y_train_combined.npy', y_train_combined)\n",
    "np.save('../data/processed/combined/X_val_combined.npy', X_val_combined)\n",
    "np.save('../data/processed/combined/y_val_combined.npy', y_val_combined)\n",
    "np.save('../data/processed/combined/X_test_combined.npy', X_test_combined)\n",
    "np.save('../data/processed/combined/y_test_combined.npy', y_test_combined)"
   ]
  },
  {
   "cell_type": "code",
   "execution_count": 24,
   "metadata": {},
   "outputs": [],
   "source": [
    "import numpy as np\n",
    "import os\n",
    "from PIL import Image\n",
    "import matplotlib.pyplot as plt\n",
    "\n",
    "# Visualize a few samples from the combined training set\n",
    "def visualize_samples(X_data, y_data, num_samples=5):\n",
    "    plt.figure(figsize=(10, 5))\n",
    "    for i in range(num_samples):\n",
    "        plt.subplot(1, num_samples, i + 1)\n",
    "        plt.imshow(X_data[i].squeeze(), cmap='gray')\n",
    "        plt.title(f\"Label: {y_data[i]}\")\n",
    "        plt.axis('off')\n",
    "    plt.show()"
   ]
  },
  {
   "cell_type": "code",
   "execution_count": 27,
   "metadata": {},
   "outputs": [
    {
     "data": {
      "image/png": "[encoded data removed]",
      "text/plain": [
       "<Figure size 1000x500 with 5 Axes>"
      ]
     },
     "metadata": {},
     "output_type": "display_data"
    }
   ],
   "source": [
    "# Visualize a few samples from the combined training set\n",
    "visualize_samples(X_train_combined, y_train_combined)"
   ]
  }
 ],
 "metadata": {
  "kernelspec": {
   "display_name": "cyrillicsegnet-3DupRicP-py3.10",
   "language": "python",
   "name": "python3"
  },
  "language_info": {
   "codemirror_mode": {
    "name": "ipython",
    "version": 3
   },
   "file_extension": ".py",
   "mimetype": "text/x-python",
   "name": "python",
   "nbconvert_exporter": "python",
   "pygments_lexer": "ipython3",
   "version": "3.10.1"
  }
 },
 "nbformat": 4,
 "nbformat_minor": 2
}
