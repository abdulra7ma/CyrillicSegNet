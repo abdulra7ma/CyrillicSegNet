{
 "cells": [
  {
   "cell_type": "code",
   "execution_count": 1,
   "metadata": {},
   "outputs": [],
   "source": [
    "import os\n",
    "import numpy as np\n",
    "import pandas as pd\n",
    "from PIL import Image\n",
    "import matplotlib.pyplot as plt\n",
    "from sklearn.model_selection import train_test_split\n"
   ]
  },
  {
   "cell_type": "code",
   "execution_count": 5,
   "metadata": {},
   "outputs": [],
   "source": [
    "# Paths to Kyrgyz letters and Russian words\n",
    "kyrgyz_train_dir = '../data/raw/handwritten_kyrgyz_letters/train'\n",
    "kyrgyz_test_dir = '../data/raw/handwritten_kyrgyz_letters/test'\n",
    "russian_train_tsv = '../data/raw/cyrilic_words/train.tsv'\n",
    "russian_train_dir = '../data/raw/cyrilic_words/train'\n",
    "russian_test_tsv = '../data/raw/cyrilic_words/test.tsv'\n",
    "russian_test_dir = '../data/raw/cyrilic_words/test'\n"
   ]
  },
  {
   "cell_type": "code",
   "execution_count": 6,
   "metadata": {},
   "outputs": [
    {
     "name": "stdout",
     "output_type": "stream",
     "text": [
      "Kyrgyz training set: (62301, 32, 32), Labels: (62301,)\n",
      "Kyrgyz test set: (17838, 32, 32), Labels: (17838,)\n"
     ]
    }
   ],
   "source": [
    "# Function to load images and labels from Kyrgyz letters dataset\n",
    "def load_kyrgyz_letters(data_dir):\n",
    "    data = []\n",
    "    labels = []\n",
    "    for letter_folder in os.listdir(data_dir):\n",
    "        letter_path = os.path.join(data_dir, letter_folder)\n",
    "        if os.path.isdir(letter_path):\n",
    "            for img_name in os.listdir(letter_path):\n",
    "                img_path = os.path.join(letter_path, img_name)\n",
    "                try:\n",
    "                    img = Image.open(img_path)\n",
    "                    img = img.convert('L')  # Convert to grayscale\n",
    "                    img = img.resize((32, 32))  # Resize image to fixed size (example: 32x32)\n",
    "                    img_array = np.array(img)\n",
    "                    data.append(img_array)\n",
    "                    labels.append(letter_folder)  # Use the folder name as the label\n",
    "                except Exception as e:\n",
    "                    print(f\"Error loading image {img_path}: {e}\")\n",
    "    return np.array(data), np.array(labels)\n",
    "\n",
    "# Load Kyrgyz letter data\n",
    "X_kyrgyz_train, y_kyrgyz_train = load_kyrgyz_letters(kyrgyz_train_dir)\n",
    "X_kyrgyz_test, y_kyrgyz_test = load_kyrgyz_letters(kyrgyz_test_dir)\n",
    "\n",
    "print(f\"Kyrgyz training set: {X_kyrgyz_train.shape}, Labels: {y_kyrgyz_train.shape}\")\n",
    "print(f\"Kyrgyz test set: {X_kyrgyz_test.shape}, Labels: {y_kyrgyz_test.shape}\")\n"
   ]
  },
  {
   "cell_type": "code",
   "execution_count": 7,
   "metadata": {},
   "outputs": [
    {
     "name": "stdout",
     "output_type": "stream",
     "text": [
      "Russian training set: (72286, 32, 128), Labels: (72286,)\n",
      "Russian test set: (1544, 32, 128), Labels: (1544,)\n"
     ]
    }
   ],
   "source": [
    "# Function to load Russian word data from TSV and image directory\n",
    "def load_russian_words(tsv_file, img_dir):\n",
    "    data = []\n",
    "    labels = []\n",
    "    df = pd.read_csv(tsv_file, delimiter='\\t', header=None, names=['filename', 'word'])\n",
    "    \n",
    "    for idx, row in df.iterrows():\n",
    "        img_path = os.path.join(img_dir, row['filename'])\n",
    "        try:\n",
    "            img = Image.open(img_path)\n",
    "            img = img.convert('L')  # Convert to grayscale\n",
    "            img = img.resize((128, 32))  # Resize for word images (example: 128x32)\n",
    "            img_array = np.array(img)\n",
    "            data.append(img_array)\n",
    "            labels.append(row['word'])  # The word is the label\n",
    "        except Exception as e:\n",
    "            print(f\"Error loading image {img_path}: {e}\")\n",
    "    \n",
    "    return np.array(data), np.array(labels)\n",
    "\n",
    "# Load Russian word data\n",
    "X_russian_train, y_russian_train = load_russian_words(russian_train_tsv, russian_train_dir)\n",
    "X_russian_test, y_russian_test = load_russian_words(russian_test_tsv, russian_test_dir)\n",
    "\n",
    "print(f\"Russian training set: {X_russian_train.shape}, Labels: {y_russian_train.shape}\")\n",
    "print(f\"Russian test set: {X_russian_test.shape}, Labels: {y_russian_test.shape}\")\n"
   ]
  },
  {
   "cell_type": "code",
   "execution_count": 8,
   "metadata": {},
   "outputs": [],
   "source": [
    "# Normalize the datasets\n",
    "X_kyrgyz_train = X_kyrgyz_train / 255.0\n",
    "X_kyrgyz_test = X_kyrgyz_test / 255.0\n",
    "\n",
    "X_russian_train = X_russian_train / 255.0\n",
    "X_russian_test = X_russian_test / 255.0\n"
   ]
  },
  {
   "cell_type": "code",
   "execution_count": 14,
   "metadata": {},
   "outputs": [],
   "source": [
    "from tensorflow.keras.preprocessing.image import ImageDataGenerator\n",
    "\n",
    "# Reshape the data to add the channel dimension\n",
    "X_kyrgyz_train = X_kyrgyz_train.reshape(X_kyrgyz_train.shape[0], 32, 32, 1)\n",
    "X_kyrgyz_test = X_kyrgyz_test.reshape(X_kyrgyz_test.shape[0], 32, 32, 1)\n",
    "\n",
    "# Apply ImageDataGenerator augmentation\n",
    "datagen = ImageDataGenerator(\n",
    "    rotation_range=15,\n",
    "    width_shift_range=0.1,\n",
    "    height_shift_range=0.1,\n",
    "    shear_range=0.2,\n",
    "    zoom_range=0.2\n",
    ")\n",
    "\n",
    "# Fit the augmentation generator\n",
    "datagen.fit(X_kyrgyz_train)\n"
   ]
  },
  {
   "cell_type": "code",
   "execution_count": 16,
   "metadata": {},
   "outputs": [],
   "source": [
    "# Use train_test_split without stratify\n",
    "X_kyrgyz_train, X_kyrgyz_val, y_kyrgyz_train, y_kyrgyz_val = train_test_split(\n",
    "    X_kyrgyz_train, y_kyrgyz_train, test_size=0.2\n",
    ")\n",
    "\n",
    "X_russian_train, X_russian_val, y_russian_train, y_russian_val = train_test_split(\n",
    "    X_russian_train, y_russian_train, test_size=0.2\n",
    ")\n"
   ]
  },
  {
   "cell_type": "code",
   "execution_count": 19,
   "metadata": {},
   "outputs": [],
   "source": [
    "# Save preprocessed Kyrgyz letters data\n",
    "np.save('../data/processed/handwritten_kyrgyz_letters/X_kyrgyz_train.npy', X_kyrgyz_train)\n",
    "np.save('../data/processed/handwritten_kyrgyz_letters/y_kyrgyz_train.npy', y_kyrgyz_train)\n",
    "np.save('../data/processed/handwritten_kyrgyz_letters/X_kyrgyz_val.npy', X_kyrgyz_val)\n",
    "np.save('../data/processed/handwritten_kyrgyz_letters/y_kyrgyz_val.npy', y_kyrgyz_val)\n",
    "np.save('../data/processed/handwritten_kyrgyz_letters/X_kyrgyz_test.npy', X_kyrgyz_test)\n",
    "np.save('../data/processed/handwritten_kyrgyz_letters/y_kyrgyz_test.npy', y_kyrgyz_test)\n",
    "\n",
    "# Save preprocessed Russian words data\n",
    "np.save('../data/processed/cyrillic_words/X_russian_train.npy', X_russian_train)\n",
    "np.save('../data/processed/cyrillic_words/y_russian_train.npy', y_russian_train)\n",
    "np.save('../data/processed/cyrillic_words/X_russian_val.npy', X_russian_val)\n",
    "np.save('../data/processed/cyrillic_words/y_russian_val.npy', y_russian_val)\n",
    "np.save('../data/processed/cyrillic_words/X_russian_test.npy', X_russian_test)\n",
    "np.save('../data/processed/cyrillic_words/y_russian_test.npy', y_russian_test)"
   ]
  },
  {
   "cell_type": "code",
   "execution_count": null,
   "metadata": {},
   "outputs": [],
   "source": []
  },
  {
   "cell_type": "code",
   "execution_count": null,
   "metadata": {},
   "outputs": [],
   "source": []
  },
  {
   "cell_type": "code",
   "execution_count": null,
   "metadata": {},
   "outputs": [],
   "source": []
  },
  {
   "cell_type": "code",
   "execution_count": null,
   "metadata": {},
   "outputs": [],
   "source": []
  },
  {
   "cell_type": "code",
   "execution_count": null,
   "metadata": {},
   "outputs": [],
   "source": []
  },
  {
   "cell_type": "code",
   "execution_count": null,
   "metadata": {},
   "outputs": [],
   "source": []
  },
  {
   "cell_type": "code",
   "execution_count": null,
   "metadata": {},
   "outputs": [],
   "source": []
  },
  {
   "cell_type": "code",
   "execution_count": null,
   "metadata": {},
   "outputs": [],
   "source": []
  }
 ],
 "metadata": {
  "kernelspec": {
   "display_name": "cyrillicsegnet-3DupRicP-py3.10",
   "language": "python",
   "name": "python3"
  },
  "language_info": {
   "codemirror_mode": {
    "name": "ipython",
    "version": 3
   },
   "file_extension": ".py",
   "mimetype": "text/x-python",
   "name": "python",
   "nbconvert_exporter": "python",
   "pygments_lexer": "ipython3",
   "version": "3.10.1"
  }
 },
 "nbformat": 4,
 "nbformat_minor": 2
}
